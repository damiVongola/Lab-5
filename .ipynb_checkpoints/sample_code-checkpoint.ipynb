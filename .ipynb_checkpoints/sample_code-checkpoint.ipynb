{
 "cells": [
  {
   "cell_type": "markdown",
   "id": "ba756d82-2bd6-4259-b3d8-e7f7f2d6e0fd",
   "metadata": {},
   "source": [
    "# Clustering\n",
    "\n",
    "You will be using the california housing dataset from sklearn"
   ]
  },
  {
   "cell_type": "code",
   "execution_count": 1,
   "id": "0dfc3886-4191-4354-9153-39569d196213",
   "metadata": {},
   "outputs": [
    {
     "data": {
      "text/html": [
       "<div>\n",
       "<style scoped>\n",
       "    .dataframe tbody tr th:only-of-type {\n",
       "        vertical-align: middle;\n",
       "    }\n",
       "\n",
       "    .dataframe tbody tr th {\n",
       "        vertical-align: top;\n",
       "    }\n",
       "\n",
       "    .dataframe thead th {\n",
       "        text-align: right;\n",
       "    }\n",
       "</style>\n",
       "<table border=\"1\" class=\"dataframe\">\n",
       "  <thead>\n",
       "    <tr style=\"text-align: right;\">\n",
       "      <th></th>\n",
       "      <th>MedInc</th>\n",
       "      <th>HouseAge</th>\n",
       "      <th>AveRooms</th>\n",
       "      <th>AveBedrms</th>\n",
       "      <th>Population</th>\n",
       "      <th>AveOccup</th>\n",
       "      <th>Latitude</th>\n",
       "      <th>Longitude</th>\n",
       "      <th>MedHouseVal</th>\n",
       "    </tr>\n",
       "  </thead>\n",
       "  <tbody>\n",
       "    <tr>\n",
       "      <th>0</th>\n",
       "      <td>8.3252</td>\n",
       "      <td>41.0</td>\n",
       "      <td>6.984127</td>\n",
       "      <td>1.023810</td>\n",
       "      <td>322.0</td>\n",
       "      <td>2.555556</td>\n",
       "      <td>37.88</td>\n",
       "      <td>-122.23</td>\n",
       "      <td>4.526</td>\n",
       "    </tr>\n",
       "    <tr>\n",
       "      <th>1</th>\n",
       "      <td>8.3014</td>\n",
       "      <td>21.0</td>\n",
       "      <td>6.238137</td>\n",
       "      <td>0.971880</td>\n",
       "      <td>2401.0</td>\n",
       "      <td>2.109842</td>\n",
       "      <td>37.86</td>\n",
       "      <td>-122.22</td>\n",
       "      <td>3.585</td>\n",
       "    </tr>\n",
       "    <tr>\n",
       "      <th>2</th>\n",
       "      <td>7.2574</td>\n",
       "      <td>52.0</td>\n",
       "      <td>8.288136</td>\n",
       "      <td>1.073446</td>\n",
       "      <td>496.0</td>\n",
       "      <td>2.802260</td>\n",
       "      <td>37.85</td>\n",
       "      <td>-122.24</td>\n",
       "      <td>3.521</td>\n",
       "    </tr>\n",
       "    <tr>\n",
       "      <th>3</th>\n",
       "      <td>5.6431</td>\n",
       "      <td>52.0</td>\n",
       "      <td>5.817352</td>\n",
       "      <td>1.073059</td>\n",
       "      <td>558.0</td>\n",
       "      <td>2.547945</td>\n",
       "      <td>37.85</td>\n",
       "      <td>-122.25</td>\n",
       "      <td>3.413</td>\n",
       "    </tr>\n",
       "    <tr>\n",
       "      <th>4</th>\n",
       "      <td>3.8462</td>\n",
       "      <td>52.0</td>\n",
       "      <td>6.281853</td>\n",
       "      <td>1.081081</td>\n",
       "      <td>565.0</td>\n",
       "      <td>2.181467</td>\n",
       "      <td>37.85</td>\n",
       "      <td>-122.25</td>\n",
       "      <td>3.422</td>\n",
       "    </tr>\n",
       "    <tr>\n",
       "      <th>...</th>\n",
       "      <td>...</td>\n",
       "      <td>...</td>\n",
       "      <td>...</td>\n",
       "      <td>...</td>\n",
       "      <td>...</td>\n",
       "      <td>...</td>\n",
       "      <td>...</td>\n",
       "      <td>...</td>\n",
       "      <td>...</td>\n",
       "    </tr>\n",
       "    <tr>\n",
       "      <th>20635</th>\n",
       "      <td>1.5603</td>\n",
       "      <td>25.0</td>\n",
       "      <td>5.045455</td>\n",
       "      <td>1.133333</td>\n",
       "      <td>845.0</td>\n",
       "      <td>2.560606</td>\n",
       "      <td>39.48</td>\n",
       "      <td>-121.09</td>\n",
       "      <td>0.781</td>\n",
       "    </tr>\n",
       "    <tr>\n",
       "      <th>20636</th>\n",
       "      <td>2.5568</td>\n",
       "      <td>18.0</td>\n",
       "      <td>6.114035</td>\n",
       "      <td>1.315789</td>\n",
       "      <td>356.0</td>\n",
       "      <td>3.122807</td>\n",
       "      <td>39.49</td>\n",
       "      <td>-121.21</td>\n",
       "      <td>0.771</td>\n",
       "    </tr>\n",
       "    <tr>\n",
       "      <th>20637</th>\n",
       "      <td>1.7000</td>\n",
       "      <td>17.0</td>\n",
       "      <td>5.205543</td>\n",
       "      <td>1.120092</td>\n",
       "      <td>1007.0</td>\n",
       "      <td>2.325635</td>\n",
       "      <td>39.43</td>\n",
       "      <td>-121.22</td>\n",
       "      <td>0.923</td>\n",
       "    </tr>\n",
       "    <tr>\n",
       "      <th>20638</th>\n",
       "      <td>1.8672</td>\n",
       "      <td>18.0</td>\n",
       "      <td>5.329513</td>\n",
       "      <td>1.171920</td>\n",
       "      <td>741.0</td>\n",
       "      <td>2.123209</td>\n",
       "      <td>39.43</td>\n",
       "      <td>-121.32</td>\n",
       "      <td>0.847</td>\n",
       "    </tr>\n",
       "    <tr>\n",
       "      <th>20639</th>\n",
       "      <td>2.3886</td>\n",
       "      <td>16.0</td>\n",
       "      <td>5.254717</td>\n",
       "      <td>1.162264</td>\n",
       "      <td>1387.0</td>\n",
       "      <td>2.616981</td>\n",
       "      <td>39.37</td>\n",
       "      <td>-121.24</td>\n",
       "      <td>0.894</td>\n",
       "    </tr>\n",
       "  </tbody>\n",
       "</table>\n",
       "<p>20640 rows × 9 columns</p>\n",
       "</div>"
      ],
      "text/plain": [
       "       MedInc  HouseAge  AveRooms  AveBedrms  Population  AveOccup  Latitude  \\\n",
       "0      8.3252      41.0  6.984127   1.023810       322.0  2.555556     37.88   \n",
       "1      8.3014      21.0  6.238137   0.971880      2401.0  2.109842     37.86   \n",
       "2      7.2574      52.0  8.288136   1.073446       496.0  2.802260     37.85   \n",
       "3      5.6431      52.0  5.817352   1.073059       558.0  2.547945     37.85   \n",
       "4      3.8462      52.0  6.281853   1.081081       565.0  2.181467     37.85   \n",
       "...       ...       ...       ...        ...         ...       ...       ...   \n",
       "20635  1.5603      25.0  5.045455   1.133333       845.0  2.560606     39.48   \n",
       "20636  2.5568      18.0  6.114035   1.315789       356.0  3.122807     39.49   \n",
       "20637  1.7000      17.0  5.205543   1.120092      1007.0  2.325635     39.43   \n",
       "20638  1.8672      18.0  5.329513   1.171920       741.0  2.123209     39.43   \n",
       "20639  2.3886      16.0  5.254717   1.162264      1387.0  2.616981     39.37   \n",
       "\n",
       "       Longitude  MedHouseVal  \n",
       "0        -122.23        4.526  \n",
       "1        -122.22        3.585  \n",
       "2        -122.24        3.521  \n",
       "3        -122.25        3.413  \n",
       "4        -122.25        3.422  \n",
       "...          ...          ...  \n",
       "20635    -121.09        0.781  \n",
       "20636    -121.21        0.771  \n",
       "20637    -121.22        0.923  \n",
       "20638    -121.32        0.847  \n",
       "20639    -121.24        0.894  \n",
       "\n",
       "[20640 rows x 9 columns]"
      ]
     },
     "execution_count": 1,
     "metadata": {},
     "output_type": "execute_result"
    }
   ],
   "source": [
    "from sklearn.datasets import fetch_california_housing\n",
    "\n",
    "california_housing = fetch_california_housing(as_frame=True)\n",
    "c_df = california_housing.frame\n",
    "c_df"
   ]
  },
  {
   "cell_type": "markdown",
   "id": "e8fc3422-f6f9-46da-a882-0d9ea91a1d9c",
   "metadata": {},
   "source": [
    "# Dimensionality Reduction\n",
    "\n",
    "You will be using the Breast Cancer dataset from sklearn"
   ]
  },
  {
   "cell_type": "code",
   "execution_count": 2,
   "id": "87086a5f-0128-4873-9463-6b87ba1d9033",
   "metadata": {},
   "outputs": [
    {
     "data": {
      "text/html": [
       "<div>\n",
       "<style scoped>\n",
       "    .dataframe tbody tr th:only-of-type {\n",
       "        vertical-align: middle;\n",
       "    }\n",
       "\n",
       "    .dataframe tbody tr th {\n",
       "        vertical-align: top;\n",
       "    }\n",
       "\n",
       "    .dataframe thead th {\n",
       "        text-align: right;\n",
       "    }\n",
       "</style>\n",
       "<table border=\"1\" class=\"dataframe\">\n",
       "  <thead>\n",
       "    <tr style=\"text-align: right;\">\n",
       "      <th></th>\n",
       "      <th>mean radius</th>\n",
       "      <th>mean texture</th>\n",
       "      <th>mean perimeter</th>\n",
       "      <th>mean area</th>\n",
       "      <th>mean smoothness</th>\n",
       "      <th>mean compactness</th>\n",
       "      <th>mean concavity</th>\n",
       "      <th>mean concave points</th>\n",
       "      <th>mean symmetry</th>\n",
       "      <th>mean fractal dimension</th>\n",
       "      <th>...</th>\n",
       "      <th>worst texture</th>\n",
       "      <th>worst perimeter</th>\n",
       "      <th>worst area</th>\n",
       "      <th>worst smoothness</th>\n",
       "      <th>worst compactness</th>\n",
       "      <th>worst concavity</th>\n",
       "      <th>worst concave points</th>\n",
       "      <th>worst symmetry</th>\n",
       "      <th>worst fractal dimension</th>\n",
       "      <th>target</th>\n",
       "    </tr>\n",
       "  </thead>\n",
       "  <tbody>\n",
       "    <tr>\n",
       "      <th>0</th>\n",
       "      <td>17.99</td>\n",
       "      <td>10.38</td>\n",
       "      <td>122.80</td>\n",
       "      <td>1001.0</td>\n",
       "      <td>0.11840</td>\n",
       "      <td>0.27760</td>\n",
       "      <td>0.30010</td>\n",
       "      <td>0.14710</td>\n",
       "      <td>0.2419</td>\n",
       "      <td>0.07871</td>\n",
       "      <td>...</td>\n",
       "      <td>17.33</td>\n",
       "      <td>184.60</td>\n",
       "      <td>2019.0</td>\n",
       "      <td>0.16220</td>\n",
       "      <td>0.66560</td>\n",
       "      <td>0.7119</td>\n",
       "      <td>0.2654</td>\n",
       "      <td>0.4601</td>\n",
       "      <td>0.11890</td>\n",
       "      <td>0</td>\n",
       "    </tr>\n",
       "    <tr>\n",
       "      <th>1</th>\n",
       "      <td>20.57</td>\n",
       "      <td>17.77</td>\n",
       "      <td>132.90</td>\n",
       "      <td>1326.0</td>\n",
       "      <td>0.08474</td>\n",
       "      <td>0.07864</td>\n",
       "      <td>0.08690</td>\n",
       "      <td>0.07017</td>\n",
       "      <td>0.1812</td>\n",
       "      <td>0.05667</td>\n",
       "      <td>...</td>\n",
       "      <td>23.41</td>\n",
       "      <td>158.80</td>\n",
       "      <td>1956.0</td>\n",
       "      <td>0.12380</td>\n",
       "      <td>0.18660</td>\n",
       "      <td>0.2416</td>\n",
       "      <td>0.1860</td>\n",
       "      <td>0.2750</td>\n",
       "      <td>0.08902</td>\n",
       "      <td>0</td>\n",
       "    </tr>\n",
       "    <tr>\n",
       "      <th>2</th>\n",
       "      <td>19.69</td>\n",
       "      <td>21.25</td>\n",
       "      <td>130.00</td>\n",
       "      <td>1203.0</td>\n",
       "      <td>0.10960</td>\n",
       "      <td>0.15990</td>\n",
       "      <td>0.19740</td>\n",
       "      <td>0.12790</td>\n",
       "      <td>0.2069</td>\n",
       "      <td>0.05999</td>\n",
       "      <td>...</td>\n",
       "      <td>25.53</td>\n",
       "      <td>152.50</td>\n",
       "      <td>1709.0</td>\n",
       "      <td>0.14440</td>\n",
       "      <td>0.42450</td>\n",
       "      <td>0.4504</td>\n",
       "      <td>0.2430</td>\n",
       "      <td>0.3613</td>\n",
       "      <td>0.08758</td>\n",
       "      <td>0</td>\n",
       "    </tr>\n",
       "    <tr>\n",
       "      <th>3</th>\n",
       "      <td>11.42</td>\n",
       "      <td>20.38</td>\n",
       "      <td>77.58</td>\n",
       "      <td>386.1</td>\n",
       "      <td>0.14250</td>\n",
       "      <td>0.28390</td>\n",
       "      <td>0.24140</td>\n",
       "      <td>0.10520</td>\n",
       "      <td>0.2597</td>\n",
       "      <td>0.09744</td>\n",
       "      <td>...</td>\n",
       "      <td>26.50</td>\n",
       "      <td>98.87</td>\n",
       "      <td>567.7</td>\n",
       "      <td>0.20980</td>\n",
       "      <td>0.86630</td>\n",
       "      <td>0.6869</td>\n",
       "      <td>0.2575</td>\n",
       "      <td>0.6638</td>\n",
       "      <td>0.17300</td>\n",
       "      <td>0</td>\n",
       "    </tr>\n",
       "    <tr>\n",
       "      <th>4</th>\n",
       "      <td>20.29</td>\n",
       "      <td>14.34</td>\n",
       "      <td>135.10</td>\n",
       "      <td>1297.0</td>\n",
       "      <td>0.10030</td>\n",
       "      <td>0.13280</td>\n",
       "      <td>0.19800</td>\n",
       "      <td>0.10430</td>\n",
       "      <td>0.1809</td>\n",
       "      <td>0.05883</td>\n",
       "      <td>...</td>\n",
       "      <td>16.67</td>\n",
       "      <td>152.20</td>\n",
       "      <td>1575.0</td>\n",
       "      <td>0.13740</td>\n",
       "      <td>0.20500</td>\n",
       "      <td>0.4000</td>\n",
       "      <td>0.1625</td>\n",
       "      <td>0.2364</td>\n",
       "      <td>0.07678</td>\n",
       "      <td>0</td>\n",
       "    </tr>\n",
       "    <tr>\n",
       "      <th>...</th>\n",
       "      <td>...</td>\n",
       "      <td>...</td>\n",
       "      <td>...</td>\n",
       "      <td>...</td>\n",
       "      <td>...</td>\n",
       "      <td>...</td>\n",
       "      <td>...</td>\n",
       "      <td>...</td>\n",
       "      <td>...</td>\n",
       "      <td>...</td>\n",
       "      <td>...</td>\n",
       "      <td>...</td>\n",
       "      <td>...</td>\n",
       "      <td>...</td>\n",
       "      <td>...</td>\n",
       "      <td>...</td>\n",
       "      <td>...</td>\n",
       "      <td>...</td>\n",
       "      <td>...</td>\n",
       "      <td>...</td>\n",
       "      <td>...</td>\n",
       "    </tr>\n",
       "    <tr>\n",
       "      <th>564</th>\n",
       "      <td>21.56</td>\n",
       "      <td>22.39</td>\n",
       "      <td>142.00</td>\n",
       "      <td>1479.0</td>\n",
       "      <td>0.11100</td>\n",
       "      <td>0.11590</td>\n",
       "      <td>0.24390</td>\n",
       "      <td>0.13890</td>\n",
       "      <td>0.1726</td>\n",
       "      <td>0.05623</td>\n",
       "      <td>...</td>\n",
       "      <td>26.40</td>\n",
       "      <td>166.10</td>\n",
       "      <td>2027.0</td>\n",
       "      <td>0.14100</td>\n",
       "      <td>0.21130</td>\n",
       "      <td>0.4107</td>\n",
       "      <td>0.2216</td>\n",
       "      <td>0.2060</td>\n",
       "      <td>0.07115</td>\n",
       "      <td>0</td>\n",
       "    </tr>\n",
       "    <tr>\n",
       "      <th>565</th>\n",
       "      <td>20.13</td>\n",
       "      <td>28.25</td>\n",
       "      <td>131.20</td>\n",
       "      <td>1261.0</td>\n",
       "      <td>0.09780</td>\n",
       "      <td>0.10340</td>\n",
       "      <td>0.14400</td>\n",
       "      <td>0.09791</td>\n",
       "      <td>0.1752</td>\n",
       "      <td>0.05533</td>\n",
       "      <td>...</td>\n",
       "      <td>38.25</td>\n",
       "      <td>155.00</td>\n",
       "      <td>1731.0</td>\n",
       "      <td>0.11660</td>\n",
       "      <td>0.19220</td>\n",
       "      <td>0.3215</td>\n",
       "      <td>0.1628</td>\n",
       "      <td>0.2572</td>\n",
       "      <td>0.06637</td>\n",
       "      <td>0</td>\n",
       "    </tr>\n",
       "    <tr>\n",
       "      <th>566</th>\n",
       "      <td>16.60</td>\n",
       "      <td>28.08</td>\n",
       "      <td>108.30</td>\n",
       "      <td>858.1</td>\n",
       "      <td>0.08455</td>\n",
       "      <td>0.10230</td>\n",
       "      <td>0.09251</td>\n",
       "      <td>0.05302</td>\n",
       "      <td>0.1590</td>\n",
       "      <td>0.05648</td>\n",
       "      <td>...</td>\n",
       "      <td>34.12</td>\n",
       "      <td>126.70</td>\n",
       "      <td>1124.0</td>\n",
       "      <td>0.11390</td>\n",
       "      <td>0.30940</td>\n",
       "      <td>0.3403</td>\n",
       "      <td>0.1418</td>\n",
       "      <td>0.2218</td>\n",
       "      <td>0.07820</td>\n",
       "      <td>0</td>\n",
       "    </tr>\n",
       "    <tr>\n",
       "      <th>567</th>\n",
       "      <td>20.60</td>\n",
       "      <td>29.33</td>\n",
       "      <td>140.10</td>\n",
       "      <td>1265.0</td>\n",
       "      <td>0.11780</td>\n",
       "      <td>0.27700</td>\n",
       "      <td>0.35140</td>\n",
       "      <td>0.15200</td>\n",
       "      <td>0.2397</td>\n",
       "      <td>0.07016</td>\n",
       "      <td>...</td>\n",
       "      <td>39.42</td>\n",
       "      <td>184.60</td>\n",
       "      <td>1821.0</td>\n",
       "      <td>0.16500</td>\n",
       "      <td>0.86810</td>\n",
       "      <td>0.9387</td>\n",
       "      <td>0.2650</td>\n",
       "      <td>0.4087</td>\n",
       "      <td>0.12400</td>\n",
       "      <td>0</td>\n",
       "    </tr>\n",
       "    <tr>\n",
       "      <th>568</th>\n",
       "      <td>7.76</td>\n",
       "      <td>24.54</td>\n",
       "      <td>47.92</td>\n",
       "      <td>181.0</td>\n",
       "      <td>0.05263</td>\n",
       "      <td>0.04362</td>\n",
       "      <td>0.00000</td>\n",
       "      <td>0.00000</td>\n",
       "      <td>0.1587</td>\n",
       "      <td>0.05884</td>\n",
       "      <td>...</td>\n",
       "      <td>30.37</td>\n",
       "      <td>59.16</td>\n",
       "      <td>268.6</td>\n",
       "      <td>0.08996</td>\n",
       "      <td>0.06444</td>\n",
       "      <td>0.0000</td>\n",
       "      <td>0.0000</td>\n",
       "      <td>0.2871</td>\n",
       "      <td>0.07039</td>\n",
       "      <td>1</td>\n",
       "    </tr>\n",
       "  </tbody>\n",
       "</table>\n",
       "<p>569 rows × 31 columns</p>\n",
       "</div>"
      ],
      "text/plain": [
       "     mean radius  mean texture  mean perimeter  mean area  mean smoothness  \\\n",
       "0          17.99         10.38          122.80     1001.0          0.11840   \n",
       "1          20.57         17.77          132.90     1326.0          0.08474   \n",
       "2          19.69         21.25          130.00     1203.0          0.10960   \n",
       "3          11.42         20.38           77.58      386.1          0.14250   \n",
       "4          20.29         14.34          135.10     1297.0          0.10030   \n",
       "..           ...           ...             ...        ...              ...   \n",
       "564        21.56         22.39          142.00     1479.0          0.11100   \n",
       "565        20.13         28.25          131.20     1261.0          0.09780   \n",
       "566        16.60         28.08          108.30      858.1          0.08455   \n",
       "567        20.60         29.33          140.10     1265.0          0.11780   \n",
       "568         7.76         24.54           47.92      181.0          0.05263   \n",
       "\n",
       "     mean compactness  mean concavity  mean concave points  mean symmetry  \\\n",
       "0             0.27760         0.30010              0.14710         0.2419   \n",
       "1             0.07864         0.08690              0.07017         0.1812   \n",
       "2             0.15990         0.19740              0.12790         0.2069   \n",
       "3             0.28390         0.24140              0.10520         0.2597   \n",
       "4             0.13280         0.19800              0.10430         0.1809   \n",
       "..                ...             ...                  ...            ...   \n",
       "564           0.11590         0.24390              0.13890         0.1726   \n",
       "565           0.10340         0.14400              0.09791         0.1752   \n",
       "566           0.10230         0.09251              0.05302         0.1590   \n",
       "567           0.27700         0.35140              0.15200         0.2397   \n",
       "568           0.04362         0.00000              0.00000         0.1587   \n",
       "\n",
       "     mean fractal dimension  ...  worst texture  worst perimeter  worst area  \\\n",
       "0                   0.07871  ...          17.33           184.60      2019.0   \n",
       "1                   0.05667  ...          23.41           158.80      1956.0   \n",
       "2                   0.05999  ...          25.53           152.50      1709.0   \n",
       "3                   0.09744  ...          26.50            98.87       567.7   \n",
       "4                   0.05883  ...          16.67           152.20      1575.0   \n",
       "..                      ...  ...            ...              ...         ...   \n",
       "564                 0.05623  ...          26.40           166.10      2027.0   \n",
       "565                 0.05533  ...          38.25           155.00      1731.0   \n",
       "566                 0.05648  ...          34.12           126.70      1124.0   \n",
       "567                 0.07016  ...          39.42           184.60      1821.0   \n",
       "568                 0.05884  ...          30.37            59.16       268.6   \n",
       "\n",
       "     worst smoothness  worst compactness  worst concavity  \\\n",
       "0             0.16220            0.66560           0.7119   \n",
       "1             0.12380            0.18660           0.2416   \n",
       "2             0.14440            0.42450           0.4504   \n",
       "3             0.20980            0.86630           0.6869   \n",
       "4             0.13740            0.20500           0.4000   \n",
       "..                ...                ...              ...   \n",
       "564           0.14100            0.21130           0.4107   \n",
       "565           0.11660            0.19220           0.3215   \n",
       "566           0.11390            0.30940           0.3403   \n",
       "567           0.16500            0.86810           0.9387   \n",
       "568           0.08996            0.06444           0.0000   \n",
       "\n",
       "     worst concave points  worst symmetry  worst fractal dimension  target  \n",
       "0                  0.2654          0.4601                  0.11890       0  \n",
       "1                  0.1860          0.2750                  0.08902       0  \n",
       "2                  0.2430          0.3613                  0.08758       0  \n",
       "3                  0.2575          0.6638                  0.17300       0  \n",
       "4                  0.1625          0.2364                  0.07678       0  \n",
       "..                    ...             ...                      ...     ...  \n",
       "564                0.2216          0.2060                  0.07115       0  \n",
       "565                0.1628          0.2572                  0.06637       0  \n",
       "566                0.1418          0.2218                  0.07820       0  \n",
       "567                0.2650          0.4087                  0.12400       0  \n",
       "568                0.0000          0.2871                  0.07039       1  \n",
       "\n",
       "[569 rows x 31 columns]"
      ]
     },
     "execution_count": 2,
     "metadata": {},
     "output_type": "execute_result"
    }
   ],
   "source": [
    "from sklearn.datasets import load_breast_cancer\n",
    "\n",
    "breast_cancer= load_breast_cancer(as_frame=True)\n",
    "b_df = breast_cancer.frame\n",
    "b_df"
   ]
  },
  {
   "cell_type": "markdown",
   "id": "0fd52e6a-6609-4f59-8426-9a869da4267a",
   "metadata": {},
   "source": [
    "Your objectives are available in the README.md file accompanying this notebook\n",
    "\n",
    "I will be providing a jupyter file with headers for where you can insert your answers for each question\n",
    "\n",
    "Below we will be going over the following to help you with the Lab:\n",
    "\n",
    "Clustering:\n",
    "   -  How to implement the kmeans algorithm with sklearn\n",
    "        - How to set initialization\n",
    "        - How to set k\n",
    "        - How to fit and predict\n",
    "        - How to get the inertia from k-means\n",
    "        - How to get the silhoutte score for your clusters\n",
    "        - How to set random_state\n",
    "\n",
    "   - How to make scatter plots for this lab\n",
    "        - How to set points to relect the size of a feature\n",
    "        - How to create subplots\n",
    "            - How to set the size of subplots\n",
    "   - In Lab 3 you were shown a great method for mse against increasing k's\n",
    "       - Use that same method to plot inertia and silhoutte score against k\n",
    "       \n",
    "Dimensionality Reduction:\n",
    "   - How to implement PCA with sklearn\n",
    "     - How to set number of dimensions to reduce to.\n",
    "     - How to get explained_variance_ratio\n",
    "     - How to reconstruct to your original data that it was fit on\n",
    "   - How to plot a 2D graph with reduced points\n",
    "   - How to plot a 3D graph with reduced points "
   ]
  },
  {
   "cell_type": "markdown",
   "id": "71ede726-c12d-4cca-998e-7d77ad34ab1f",
   "metadata": {},
   "source": [
    "# Below is our sample data for the demonstration (Clustering)"
   ]
  },
  {
   "cell_type": "code",
   "execution_count": 3,
   "id": "2342d535-3dbe-4df5-a5d4-fb3f4baf74df",
   "metadata": {},
   "outputs": [
    {
     "data": {
      "text/html": [
       "<div>\n",
       "<style scoped>\n",
       "    .dataframe tbody tr th:only-of-type {\n",
       "        vertical-align: middle;\n",
       "    }\n",
       "\n",
       "    .dataframe tbody tr th {\n",
       "        vertical-align: top;\n",
       "    }\n",
       "\n",
       "    .dataframe thead th {\n",
       "        text-align: right;\n",
       "    }\n",
       "</style>\n",
       "<table border=\"1\" class=\"dataframe\">\n",
       "  <thead>\n",
       "    <tr style=\"text-align: right;\">\n",
       "      <th></th>\n",
       "      <th>x1</th>\n",
       "      <th>x2</th>\n",
       "      <th>x3</th>\n",
       "      <th>x4</th>\n",
       "      <th>size</th>\n",
       "    </tr>\n",
       "  </thead>\n",
       "  <tbody>\n",
       "    <tr>\n",
       "      <th>0</th>\n",
       "      <td>1</td>\n",
       "      <td>1</td>\n",
       "      <td>4</td>\n",
       "      <td>8</td>\n",
       "      <td>2</td>\n",
       "    </tr>\n",
       "    <tr>\n",
       "      <th>1</th>\n",
       "      <td>1</td>\n",
       "      <td>2</td>\n",
       "      <td>3</td>\n",
       "      <td>4</td>\n",
       "      <td>2</td>\n",
       "    </tr>\n",
       "    <tr>\n",
       "      <th>2</th>\n",
       "      <td>2</td>\n",
       "      <td>2</td>\n",
       "      <td>9</td>\n",
       "      <td>9</td>\n",
       "      <td>2</td>\n",
       "    </tr>\n",
       "    <tr>\n",
       "      <th>3</th>\n",
       "      <td>2</td>\n",
       "      <td>3</td>\n",
       "      <td>4</td>\n",
       "      <td>4</td>\n",
       "      <td>2</td>\n",
       "    </tr>\n",
       "    <tr>\n",
       "      <th>4</th>\n",
       "      <td>2</td>\n",
       "      <td>0</td>\n",
       "      <td>3</td>\n",
       "      <td>4</td>\n",
       "      <td>10</td>\n",
       "    </tr>\n",
       "    <tr>\n",
       "      <th>5</th>\n",
       "      <td>2</td>\n",
       "      <td>6</td>\n",
       "      <td>7</td>\n",
       "      <td>4</td>\n",
       "      <td>10</td>\n",
       "    </tr>\n",
       "    <tr>\n",
       "      <th>6</th>\n",
       "      <td>1</td>\n",
       "      <td>3</td>\n",
       "      <td>6</td>\n",
       "      <td>4</td>\n",
       "      <td>10</td>\n",
       "    </tr>\n",
       "  </tbody>\n",
       "</table>\n",
       "</div>"
      ],
      "text/plain": [
       "   x1  x2  x3  x4  size\n",
       "0   1   1   4   8     2\n",
       "1   1   2   3   4     2\n",
       "2   2   2   9   9     2\n",
       "3   2   3   4   4     2\n",
       "4   2   0   3   4    10\n",
       "5   2   6   7   4    10\n",
       "6   1   3   6   4    10"
      ]
     },
     "execution_count": 3,
     "metadata": {},
     "output_type": "execute_result"
    }
   ],
   "source": [
    "import numpy as np\n",
    "import pandas as pd\n",
    "\n",
    "X = np.array([[1, 1, 4, 8, 2], [1, 2, 3, 4, 2], [2, 2, 9, 9, 2], [2, 3, 4, 4, 2], [2, 0, 3, 4, 10], [2, 6, 7, 4, 10], [1, 3, 6, 4, 10]])\n",
    "\n",
    "X_df = pd.DataFrame(X, columns=[\"x1\", \"x2\", \"x3\", \"x4\", \"size\"])\n",
    "X_df"
   ]
  },
  {
   "cell_type": "markdown",
   "id": "a557c069-e4d6-4798-9866-dcd0cb97f9a6",
   "metadata": {},
   "source": [
    "## How to implement the kmeans algorithm with sklearn"
   ]
  },
  {
   "cell_type": "code",
   "execution_count": 4,
   "id": "31d26516-a924-484b-9dd3-caf0f9439acb",
   "metadata": {},
   "outputs": [],
   "source": [
    "from sklearn.cluster import KMeans\n",
    "\n",
    "k=2\n",
    "kmeans = KMeans(n_clusters=k, random_state=0, init=\"k-means++\")"
   ]
  },
  {
   "cell_type": "markdown",
   "id": "fb13bc6f-4af3-477b-bee5-b4f5af50c046",
   "metadata": {},
   "source": [
    "***n_clusters***: This is our \"k\". It is the number of clusters we wish to create with kmeans<br>\n",
    "***random_state***: This is our random seed for our initialization<br>\n",
    "***init***: This is our initialization technique. As mentioned \"k-means++\" allows us to initializae in a way that ensures that our initialized centroids are not close to each other"
   ]
  },
  {
   "cell_type": "code",
   "execution_count": 5,
   "id": "cf9e324a-ff89-4855-b1ce-11300bbef176",
   "metadata": {},
   "outputs": [
    {
     "data": {
      "text/html": [
       "<style>#sk-container-id-1 {color: black;background-color: white;}#sk-container-id-1 pre{padding: 0;}#sk-container-id-1 div.sk-toggleable {background-color: white;}#sk-container-id-1 label.sk-toggleable__label {cursor: pointer;display: block;width: 100%;margin-bottom: 0;padding: 0.3em;box-sizing: border-box;text-align: center;}#sk-container-id-1 label.sk-toggleable__label-arrow:before {content: \"▸\";float: left;margin-right: 0.25em;color: #696969;}#sk-container-id-1 label.sk-toggleable__label-arrow:hover:before {color: black;}#sk-container-id-1 div.sk-estimator:hover label.sk-toggleable__label-arrow:before {color: black;}#sk-container-id-1 div.sk-toggleable__content {max-height: 0;max-width: 0;overflow: hidden;text-align: left;background-color: #f0f8ff;}#sk-container-id-1 div.sk-toggleable__content pre {margin: 0.2em;color: black;border-radius: 0.25em;background-color: #f0f8ff;}#sk-container-id-1 input.sk-toggleable__control:checked~div.sk-toggleable__content {max-height: 200px;max-width: 100%;overflow: auto;}#sk-container-id-1 input.sk-toggleable__control:checked~label.sk-toggleable__label-arrow:before {content: \"▾\";}#sk-container-id-1 div.sk-estimator input.sk-toggleable__control:checked~label.sk-toggleable__label {background-color: #d4ebff;}#sk-container-id-1 div.sk-label input.sk-toggleable__control:checked~label.sk-toggleable__label {background-color: #d4ebff;}#sk-container-id-1 input.sk-hidden--visually {border: 0;clip: rect(1px 1px 1px 1px);clip: rect(1px, 1px, 1px, 1px);height: 1px;margin: -1px;overflow: hidden;padding: 0;position: absolute;width: 1px;}#sk-container-id-1 div.sk-estimator {font-family: monospace;background-color: #f0f8ff;border: 1px dotted black;border-radius: 0.25em;box-sizing: border-box;margin-bottom: 0.5em;}#sk-container-id-1 div.sk-estimator:hover {background-color: #d4ebff;}#sk-container-id-1 div.sk-parallel-item::after {content: \"\";width: 100%;border-bottom: 1px solid gray;flex-grow: 1;}#sk-container-id-1 div.sk-label:hover label.sk-toggleable__label {background-color: #d4ebff;}#sk-container-id-1 div.sk-serial::before {content: \"\";position: absolute;border-left: 1px solid gray;box-sizing: border-box;top: 0;bottom: 0;left: 50%;z-index: 0;}#sk-container-id-1 div.sk-serial {display: flex;flex-direction: column;align-items: center;background-color: white;padding-right: 0.2em;padding-left: 0.2em;position: relative;}#sk-container-id-1 div.sk-item {position: relative;z-index: 1;}#sk-container-id-1 div.sk-parallel {display: flex;align-items: stretch;justify-content: center;background-color: white;position: relative;}#sk-container-id-1 div.sk-item::before, #sk-container-id-1 div.sk-parallel-item::before {content: \"\";position: absolute;border-left: 1px solid gray;box-sizing: border-box;top: 0;bottom: 0;left: 50%;z-index: -1;}#sk-container-id-1 div.sk-parallel-item {display: flex;flex-direction: column;z-index: 1;position: relative;background-color: white;}#sk-container-id-1 div.sk-parallel-item:first-child::after {align-self: flex-end;width: 50%;}#sk-container-id-1 div.sk-parallel-item:last-child::after {align-self: flex-start;width: 50%;}#sk-container-id-1 div.sk-parallel-item:only-child::after {width: 0;}#sk-container-id-1 div.sk-dashed-wrapped {border: 1px dashed gray;margin: 0 0.4em 0.5em 0.4em;box-sizing: border-box;padding-bottom: 0.4em;background-color: white;}#sk-container-id-1 div.sk-label label {font-family: monospace;font-weight: bold;display: inline-block;line-height: 1.2em;}#sk-container-id-1 div.sk-label-container {text-align: center;}#sk-container-id-1 div.sk-container {/* jupyter's `normalize.less` sets `[hidden] { display: none; }` but bootstrap.min.css set `[hidden] { display: none !important; }` so we also need the `!important` here to be able to override the default hidden behavior on the sphinx rendered scikit-learn.org. See: https://github.com/scikit-learn/scikit-learn/issues/21755 */display: inline-block !important;position: relative;}#sk-container-id-1 div.sk-text-repr-fallback {display: none;}</style><div id=\"sk-container-id-1\" class=\"sk-top-container\"><div class=\"sk-text-repr-fallback\"><pre>KMeans(n_clusters=2, random_state=0)</pre><b>In a Jupyter environment, please rerun this cell to show the HTML representation or trust the notebook. <br />On GitHub, the HTML representation is unable to render, please try loading this page with nbviewer.org.</b></div><div class=\"sk-container\" hidden><div class=\"sk-item\"><div class=\"sk-estimator sk-toggleable\"><input class=\"sk-toggleable__control sk-hidden--visually\" id=\"sk-estimator-id-1\" type=\"checkbox\" checked><label for=\"sk-estimator-id-1\" class=\"sk-toggleable__label sk-toggleable__label-arrow\">KMeans</label><div class=\"sk-toggleable__content\"><pre>KMeans(n_clusters=2, random_state=0)</pre></div></div></div></div></div>"
      ],
      "text/plain": [
       "KMeans(n_clusters=2, random_state=0)"
      ]
     },
     "execution_count": 5,
     "metadata": {},
     "output_type": "execute_result"
    }
   ],
   "source": [
    "kmeans.fit(X_df)"
   ]
  },
  {
   "cell_type": "markdown",
   "id": "820eaf6c-6fb4-41d9-a25f-08e891606185",
   "metadata": {},
   "source": [
    "Above is how we fit kmeans"
   ]
  },
  {
   "cell_type": "code",
   "execution_count": 6,
   "id": "e27dd8ca-c192-4f80-a346-4b78085fb47d",
   "metadata": {},
   "outputs": [
    {
     "data": {
      "text/plain": [
       "array([1, 1, 1, 1, 0, 0, 0])"
      ]
     },
     "execution_count": 6,
     "metadata": {},
     "output_type": "execute_result"
    }
   ],
   "source": [
    "clusters = kmeans.predict(X_df)\n",
    "clusters"
   ]
  },
  {
   "cell_type": "markdown",
   "id": "ebd32fbe-5f0a-4803-aa04-d405b902a0e6",
   "metadata": {},
   "source": [
    "Above is how we predict with kmeans"
   ]
  },
  {
   "cell_type": "markdown",
   "id": "aa0d1249-8745-463e-a12d-4d8b506654cc",
   "metadata": {},
   "source": [
    "## How to get inertia"
   ]
  },
  {
   "cell_type": "code",
   "execution_count": 7,
   "id": "4fd0bd21-7944-4e47-9cab-47a50d932cd1",
   "metadata": {},
   "outputs": [
    {
     "name": "stdout",
     "output_type": "stream",
     "text": [
      "Inertia for k = 2: 73.08333333333333\n"
     ]
    }
   ],
   "source": [
    "print(f\"Inertia for k = 2: {kmeans.inertia_}\")"
   ]
  },
  {
   "cell_type": "markdown",
   "id": "76df941e-7ef3-45ff-99ac-847ddc083102",
   "metadata": {},
   "source": [
    "## How to get silhoutte score for your clusters"
   ]
  },
  {
   "cell_type": "code",
   "execution_count": 8,
   "id": "41295890-e2c6-4d72-9703-ccda4997cfca",
   "metadata": {},
   "outputs": [
    {
     "data": {
      "text/plain": [
       "0.46782502565333983"
      ]
     },
     "execution_count": 8,
     "metadata": {},
     "output_type": "execute_result"
    }
   ],
   "source": [
    "from sklearn.metrics import silhouette_score\n",
    "\n",
    "silhouette_score(X_df, clusters)"
   ]
  },
  {
   "cell_type": "markdown",
   "id": "60e8485c-602f-4047-8201-22a518f4b352",
   "metadata": {
    "tags": []
   },
   "source": [
    "# How to make scatter plots for this lab\n",
    " - How to set points to relect the size of a feature\n",
    " - How to create subplots\n",
    " - How to set the size of subplots\n",
    " \n",
    "***Notes***: \n",
    "   - I will not be using a for loop in my demonstration, I expect you all to be able to use them as needed<br>\n",
    "       - I will be using \"x1\" and \"x2\" as my x and y on the graph and \"size\" will be my size for the points<br>\n",
    "         - For you this would be \"Longitude\", \"Latitude\" and \"MedHouseVal\"(as size) respectively"
   ]
  },
  {
   "cell_type": "markdown",
   "id": "0f38082a-9b66-4a78-a0ce-af81c07cb713",
   "metadata": {},
   "source": [
    "## I will train with k=3 to give a demonstration on how to subplot"
   ]
  },
  {
   "cell_type": "code",
   "execution_count": 9,
   "id": "6c5e1ee7-fe84-4ddf-9088-c901db82939c",
   "metadata": {},
   "outputs": [],
   "source": [
    "k_3=3\n",
    "kmeans_3 = KMeans(n_clusters=k_3, random_state=0, init=\"k-means++\")\n",
    "kmeans_3.fit(X_df)\n",
    "clusters_3 = kmeans_3.predict(X_df)"
   ]
  },
  {
   "cell_type": "markdown",
   "id": "7969b7d9-6846-4747-b44f-25e5571f7d25",
   "metadata": {},
   "source": [
    "It is a good idea to combine your dataframe to your cluster as will be shown below before plotting"
   ]
  },
  {
   "cell_type": "code",
   "execution_count": 10,
   "id": "b9cc906e-cf83-44fa-b4e3-4fcf8aae1116",
   "metadata": {},
   "outputs": [],
   "source": [
    "import copy\n",
    "\n",
    "# We are copying here so that we do not change our initial X_df\n",
    "X_df_w_clusters_2 = copy.deepcopy(X_df)\n",
    "X_df_w_clusters_2[\"clusters\"] = clusters\n",
    "\n",
    "X_df_w_clusters_3 = copy.deepcopy(X_df)\n",
    "X_df_w_clusters_3[\"clusters\"] = clusters_3"
   ]
  },
  {
   "cell_type": "code",
   "execution_count": 11,
   "id": "cc83b670-56ea-4a43-b9e7-e300c1c0669d",
   "metadata": {},
   "outputs": [
    {
     "data": {
      "text/plain": [
       "Text(0.5, 1.0, 'k = 3')"
      ]
     },
     "execution_count": 11,
     "metadata": {},
     "output_type": "execute_result"
    },
    {
     "data": {
      "image/png": "[encoded data removed]",
      "text/plain": [
       "<Figure size 500x500 with 2 Axes>"
      ]
     },
     "metadata": {},
     "output_type": "display_data"
    }
   ],
   "source": [
    "import seaborn as sns\n",
    "from matplotlib import pyplot as plt\n",
    "\n",
    "\"\"\" Create figure/canvas for subplots\n",
    "This is the overall setting of the figure where the subplots will be plotted\n",
    "***Note:***: In your lab, you have been told to create subplots for all k's using a for loop,\n",
    "             but the command directly below this comment should be ***outside*** the loop because it creates the canvas on which our subplots will be plotted hence it makes sense for it to be outsiude the loop\n",
    "***Note:***: In your lab you have been asked to set the figsize of the subplots to (20,20) here we are using (5, 5)\n",
    "***Note:***: In your lab you have been asked to set the shape of the subplots to (2,3) here we are using (1, 2)\"\"\"\n",
    "\n",
    "fig, axes = plt.subplots(1, 2, figsize=(5, 5), sharey=True)\n",
    "fig.suptitle(\"K-means plots using different k's\")\n",
    "\n",
    "# Remember, for you this should be in a for loop\n",
    "sns.scatterplot(ax=axes.flatten()[0], data=X_df_w_clusters_2, x=\"x1\", y=\"x2\",\n",
    "                size=\"size\", hue=\"clusters\",\n",
    "                palette=\"viridis\", alpha=0.5)\n",
    "\n",
    "sns.scatterplot(ax=axes.flatten()[1], data=X_df_w_clusters_3, x=\"x1\", y=\"x2\",\n",
    "                size=\"size\", hue=\"clusters\",\n",
    "                palette=\"viridis\", alpha=0.5)\n",
    "\n",
    "# ***Note***: In your case, you would be doing axes[x][y] because you have more than 1 row and more than 1 column. So your plot for k=5 should be at axes[0][0]\n",
    "axes[0].set_title(f\"k = {2}\")\n",
    "axes[1].set_title(f\"k = {3}\")"
   ]
  },
  {
   "cell_type": "markdown",
   "id": "70048df1-a631-435d-b722-6840975b3bf7",
   "metadata": {},
   "source": [
    "Things to Note \n",
    "- Notice that we pick \"x1\" as our x-axis and we pick \"x2\" as our y-axis<br>\n",
    "- Notice that each cluster has a different color as indicated by the \"hue\" parameter which looks at our clusters column in our dataframe and assigns a different color for each cluster<br>\n",
    "- Notice that the size differs where datapoints with size 2 are smaller than datapoints with size 10 i.e: Our datapoints size is reflected by the size of that column. This is done with the \"size\" parameter as shown above\n",
    "- Notice that we set the titles for our axes with axes[column], however as previously stated. Since you are making 6 subplots with shape 2,3(2 rows, 3 columns), you will need to access axes with axes[x][y]. For your first graph at k=5 use axes[0][0]"
   ]
  },
  {
   "cell_type": "markdown",
   "id": "c306f50b-ca1c-483f-8603-460d2bd36337",
   "metadata": {},
   "source": [
    "Hint: Your graphs for kmeans should look something like the image below:<br>\n",
    "    - Since you are plotting the longitude and latitude of houses in california, you should notice that your graph looks similar to the map of california\n",
    "\n",
    "![title](regionalmap.jpg)"
   ]
  },
  {
   "cell_type": "markdown",
   "id": "794b2d40-7609-4d5f-b8dd-dcd25d85f8a9",
   "metadata": {},
   "source": [
    "# Below is our sample data for the demonstration (Dimensionality Reduction)"
   ]
  },
  {
   "cell_type": "code",
   "execution_count": 12,
   "id": "ebcc857c-bcfd-4fe8-a18e-657398c31f14",
   "metadata": {},
   "outputs": [
    {
     "data": {
      "text/html": [
       "<div>\n",
       "<style scoped>\n",
       "    .dataframe tbody tr th:only-of-type {\n",
       "        vertical-align: middle;\n",
       "    }\n",
       "\n",
       "    .dataframe tbody tr th {\n",
       "        vertical-align: top;\n",
       "    }\n",
       "\n",
       "    .dataframe thead th {\n",
       "        text-align: right;\n",
       "    }\n",
       "</style>\n",
       "<table border=\"1\" class=\"dataframe\">\n",
       "  <thead>\n",
       "    <tr style=\"text-align: right;\">\n",
       "      <th></th>\n",
       "      <th>x1</th>\n",
       "      <th>x2</th>\n",
       "      <th>x3</th>\n",
       "      <th>x4</th>\n",
       "      <th>x5</th>\n",
       "      <th>y</th>\n",
       "    </tr>\n",
       "  </thead>\n",
       "  <tbody>\n",
       "    <tr>\n",
       "      <th>0</th>\n",
       "      <td>-1</td>\n",
       "      <td>-1</td>\n",
       "      <td>1</td>\n",
       "      <td>5</td>\n",
       "      <td>7</td>\n",
       "      <td>0</td>\n",
       "    </tr>\n",
       "    <tr>\n",
       "      <th>1</th>\n",
       "      <td>-2</td>\n",
       "      <td>-1</td>\n",
       "      <td>0</td>\n",
       "      <td>9</td>\n",
       "      <td>8</td>\n",
       "      <td>0</td>\n",
       "    </tr>\n",
       "    <tr>\n",
       "      <th>2</th>\n",
       "      <td>1</td>\n",
       "      <td>1</td>\n",
       "      <td>3</td>\n",
       "      <td>6</td>\n",
       "      <td>4</td>\n",
       "      <td>1</td>\n",
       "    </tr>\n",
       "    <tr>\n",
       "      <th>3</th>\n",
       "      <td>2</td>\n",
       "      <td>1</td>\n",
       "      <td>3</td>\n",
       "      <td>4</td>\n",
       "      <td>6</td>\n",
       "      <td>1</td>\n",
       "    </tr>\n",
       "    <tr>\n",
       "      <th>4</th>\n",
       "      <td>-2</td>\n",
       "      <td>-1</td>\n",
       "      <td>0</td>\n",
       "      <td>6</td>\n",
       "      <td>8</td>\n",
       "      <td>0</td>\n",
       "    </tr>\n",
       "    <tr>\n",
       "      <th>5</th>\n",
       "      <td>-2</td>\n",
       "      <td>-9</td>\n",
       "      <td>0</td>\n",
       "      <td>3</td>\n",
       "      <td>7</td>\n",
       "      <td>1</td>\n",
       "    </tr>\n",
       "    <tr>\n",
       "      <th>6</th>\n",
       "      <td>-2</td>\n",
       "      <td>-4</td>\n",
       "      <td>0</td>\n",
       "      <td>7</td>\n",
       "      <td>7</td>\n",
       "      <td>1</td>\n",
       "    </tr>\n",
       "    <tr>\n",
       "      <th>7</th>\n",
       "      <td>-5</td>\n",
       "      <td>-1</td>\n",
       "      <td>0</td>\n",
       "      <td>5</td>\n",
       "      <td>8</td>\n",
       "      <td>1</td>\n",
       "    </tr>\n",
       "    <tr>\n",
       "      <th>8</th>\n",
       "      <td>-2</td>\n",
       "      <td>-1</td>\n",
       "      <td>0</td>\n",
       "      <td>3</td>\n",
       "      <td>7</td>\n",
       "      <td>0</td>\n",
       "    </tr>\n",
       "    <tr>\n",
       "      <th>9</th>\n",
       "      <td>-2</td>\n",
       "      <td>-1</td>\n",
       "      <td>7</td>\n",
       "      <td>3</td>\n",
       "      <td>7</td>\n",
       "      <td>0</td>\n",
       "    </tr>\n",
       "    <tr>\n",
       "      <th>10</th>\n",
       "      <td>-4</td>\n",
       "      <td>-1</td>\n",
       "      <td>5</td>\n",
       "      <td>3</td>\n",
       "      <td>9</td>\n",
       "      <td>0</td>\n",
       "    </tr>\n",
       "    <tr>\n",
       "      <th>11</th>\n",
       "      <td>1</td>\n",
       "      <td>2</td>\n",
       "      <td>6</td>\n",
       "      <td>7</td>\n",
       "      <td>9</td>\n",
       "      <td>1</td>\n",
       "    </tr>\n",
       "  </tbody>\n",
       "</table>\n",
       "</div>"
      ],
      "text/plain": [
       "    x1  x2  x3  x4  x5  y\n",
       "0   -1  -1   1   5   7  0\n",
       "1   -2  -1   0   9   8  0\n",
       "2    1   1   3   6   4  1\n",
       "3    2   1   3   4   6  1\n",
       "4   -2  -1   0   6   8  0\n",
       "5   -2  -9   0   3   7  1\n",
       "6   -2  -4   0   7   7  1\n",
       "7   -5  -1   0   5   8  1\n",
       "8   -2  -1   0   3   7  0\n",
       "9   -2  -1   7   3   7  0\n",
       "10  -4  -1   5   3   9  0\n",
       "11   1   2   6   7   9  1"
      ]
     },
     "execution_count": 12,
     "metadata": {},
     "output_type": "execute_result"
    }
   ],
   "source": [
    "X_clf = np.array([[-1, -1, 1, 5, 7], [-2, -1, 0, 9, 8], [1, 1, 3, 6, 4], [2, 1, 3, 4, 6], [-2, -1, 0, 6, 8], [-2, -9, 0, 3, 7],[-2, -4, 0, 7, 7], [-5, -1, 0, 5, 8], [-2, -1, 0, 3, 7], [-2, -1, 7, 3, 7], [-4, -1, 5, 3, 9], [1, 2, 6, 7, 9]])\n",
    "Y_clf = np.array([0, 0, 1, 1, 0, 1, 1, 1, 0, 0, 0, 1])\n",
    "X_y_df_clf = pd.DataFrame(np.array(np.transpose([X_clf[:,0], X_clf[:,1],X_clf[:,2], X_clf[:,3], X_clf[:,4], Y_clf])), columns=[\"x1\", \"x2\", \"x3\", \"x4\", \"x5\", \"y\"])\n",
    "X_y_df_clf"
   ]
  },
  {
   "cell_type": "code",
   "execution_count": 13,
   "id": "0ffd5fd4-c222-49fb-9e73-1b8d8a82cfa9",
   "metadata": {},
   "outputs": [
    {
     "name": "stdout",
     "output_type": "stream",
     "text": [
      "The shape of X_scaled which will be used to fit pca is: (12, 5)\n"
     ]
    }
   ],
   "source": [
    "# Remember to scale your features\n",
    "from sklearn.preprocessing import StandardScaler\n",
    "\n",
    "sc = StandardScaler()\n",
    "\n",
    "scaler = StandardScaler()\n",
    "scaler.fit(X_clf) \n",
    "X_scaled = scaler.transform(X_clf)\n",
    "\n",
    "# Here is how to print the shape of an array\n",
    "print(f\"The shape of X_scaled which will be used to fit pca is: {X_scaled.shape}\")"
   ]
  },
  {
   "cell_type": "markdown",
   "id": "4ff52681-fa19-434f-9d9e-fac8d79262a7",
   "metadata": {},
   "source": [
    "## How to implement PCA with sklearn\n",
    " - How to fit\n",
    " - How to transform"
   ]
  },
  {
   "cell_type": "code",
   "execution_count": 14,
   "id": "f600465a-7d55-4268-b11d-f7f90cc81d8f",
   "metadata": {},
   "outputs": [],
   "source": [
    "from sklearn.decomposition import PCA\n",
    "\n",
    "pca=PCA(n_components=2)"
   ]
  },
  {
   "cell_type": "markdown",
   "id": "9ea0b2e7-4974-4f6a-bdf6-1318597c8cb9",
   "metadata": {},
   "source": [
    "***n_components***: This refers to the number of dimensions we want to minimize to"
   ]
  },
  {
   "cell_type": "code",
   "execution_count": 15,
   "id": "a9bf8748-a287-4f2c-9261-58ee199bb8b5",
   "metadata": {},
   "outputs": [
    {
     "data": {
      "text/html": [
       "<style>#sk-container-id-2 {color: black;background-color: white;}#sk-container-id-2 pre{padding: 0;}#sk-container-id-2 div.sk-toggleable {background-color: white;}#sk-container-id-2 label.sk-toggleable__label {cursor: pointer;display: block;width: 100%;margin-bottom: 0;padding: 0.3em;box-sizing: border-box;text-align: center;}#sk-container-id-2 label.sk-toggleable__label-arrow:before {content: \"▸\";float: left;margin-right: 0.25em;color: #696969;}#sk-container-id-2 label.sk-toggleable__label-arrow:hover:before {color: black;}#sk-container-id-2 div.sk-estimator:hover label.sk-toggleable__label-arrow:before {color: black;}#sk-container-id-2 div.sk-toggleable__content {max-height: 0;max-width: 0;overflow: hidden;text-align: left;background-color: #f0f8ff;}#sk-container-id-2 div.sk-toggleable__content pre {margin: 0.2em;color: black;border-radius: 0.25em;background-color: #f0f8ff;}#sk-container-id-2 input.sk-toggleable__control:checked~div.sk-toggleable__content {max-height: 200px;max-width: 100%;overflow: auto;}#sk-container-id-2 input.sk-toggleable__control:checked~label.sk-toggleable__label-arrow:before {content: \"▾\";}#sk-container-id-2 div.sk-estimator input.sk-toggleable__control:checked~label.sk-toggleable__label {background-color: #d4ebff;}#sk-container-id-2 div.sk-label input.sk-toggleable__control:checked~label.sk-toggleable__label {background-color: #d4ebff;}#sk-container-id-2 input.sk-hidden--visually {border: 0;clip: rect(1px 1px 1px 1px);clip: rect(1px, 1px, 1px, 1px);height: 1px;margin: -1px;overflow: hidden;padding: 0;position: absolute;width: 1px;}#sk-container-id-2 div.sk-estimator {font-family: monospace;background-color: #f0f8ff;border: 1px dotted black;border-radius: 0.25em;box-sizing: border-box;margin-bottom: 0.5em;}#sk-container-id-2 div.sk-estimator:hover {background-color: #d4ebff;}#sk-container-id-2 div.sk-parallel-item::after {content: \"\";width: 100%;border-bottom: 1px solid gray;flex-grow: 1;}#sk-container-id-2 div.sk-label:hover label.sk-toggleable__label {background-color: #d4ebff;}#sk-container-id-2 div.sk-serial::before {content: \"\";position: absolute;border-left: 1px solid gray;box-sizing: border-box;top: 0;bottom: 0;left: 50%;z-index: 0;}#sk-container-id-2 div.sk-serial {display: flex;flex-direction: column;align-items: center;background-color: white;padding-right: 0.2em;padding-left: 0.2em;position: relative;}#sk-container-id-2 div.sk-item {position: relative;z-index: 1;}#sk-container-id-2 div.sk-parallel {display: flex;align-items: stretch;justify-content: center;background-color: white;position: relative;}#sk-container-id-2 div.sk-item::before, #sk-container-id-2 div.sk-parallel-item::before {content: \"\";position: absolute;border-left: 1px solid gray;box-sizing: border-box;top: 0;bottom: 0;left: 50%;z-index: -1;}#sk-container-id-2 div.sk-parallel-item {display: flex;flex-direction: column;z-index: 1;position: relative;background-color: white;}#sk-container-id-2 div.sk-parallel-item:first-child::after {align-self: flex-end;width: 50%;}#sk-container-id-2 div.sk-parallel-item:last-child::after {align-self: flex-start;width: 50%;}#sk-container-id-2 div.sk-parallel-item:only-child::after {width: 0;}#sk-container-id-2 div.sk-dashed-wrapped {border: 1px dashed gray;margin: 0 0.4em 0.5em 0.4em;box-sizing: border-box;padding-bottom: 0.4em;background-color: white;}#sk-container-id-2 div.sk-label label {font-family: monospace;font-weight: bold;display: inline-block;line-height: 1.2em;}#sk-container-id-2 div.sk-label-container {text-align: center;}#sk-container-id-2 div.sk-container {/* jupyter's `normalize.less` sets `[hidden] { display: none; }` but bootstrap.min.css set `[hidden] { display: none !important; }` so we also need the `!important` here to be able to override the default hidden behavior on the sphinx rendered scikit-learn.org. See: https://github.com/scikit-learn/scikit-learn/issues/21755 */display: inline-block !important;position: relative;}#sk-container-id-2 div.sk-text-repr-fallback {display: none;}</style><div id=\"sk-container-id-2\" class=\"sk-top-container\"><div class=\"sk-text-repr-fallback\"><pre>PCA(n_components=2)</pre><b>In a Jupyter environment, please rerun this cell to show the HTML representation or trust the notebook. <br />On GitHub, the HTML representation is unable to render, please try loading this page with nbviewer.org.</b></div><div class=\"sk-container\" hidden><div class=\"sk-item\"><div class=\"sk-estimator sk-toggleable\"><input class=\"sk-toggleable__control sk-hidden--visually\" id=\"sk-estimator-id-2\" type=\"checkbox\" checked><label for=\"sk-estimator-id-2\" class=\"sk-toggleable__label sk-toggleable__label-arrow\">PCA</label><div class=\"sk-toggleable__content\"><pre>PCA(n_components=2)</pre></div></div></div></div></div>"
      ],
      "text/plain": [
       "PCA(n_components=2)"
      ]
     },
     "execution_count": 15,
     "metadata": {},
     "output_type": "execute_result"
    }
   ],
   "source": [
    "pca.fit(X_scaled) "
   ]
  },
  {
   "cell_type": "markdown",
   "id": "c601c60d-4ed0-4b2c-adac-343cd0daaef2",
   "metadata": {},
   "source": [
    "Above is how we fit the pca algorithm"
   ]
  },
  {
   "cell_type": "code",
   "execution_count": 16,
   "id": "9d055b0a-cb34-4d34-bdb3-f60a8feb8f48",
   "metadata": {},
   "outputs": [
    {
     "data": {
      "text/plain": [
       "array([[ 0.09765021, -0.40945749],\n",
       "       [-0.31058175, -0.4953483 ],\n",
       "       [ 2.29044022, -1.64082992],\n",
       "       [ 1.96539462, -0.55298796],\n",
       "       [-0.55144836, -0.12102993],\n",
       "       [-2.20033871, -1.10448316],\n",
       "       [-0.84830824, -1.06478799],\n",
       "       [-1.58659117,  0.46313455],\n",
       "       [-0.55093873, -0.24242504],\n",
       "       [ 0.63714714,  1.40708079],\n",
       "       [-0.82162775,  2.23348148],\n",
       "       [ 1.87920251,  1.527653  ]])"
      ]
     },
     "execution_count": 16,
     "metadata": {},
     "output_type": "execute_result"
    }
   ],
   "source": [
    "X_pca = pca.transform(X_scaled)\n",
    "X_pca"
   ]
  },
  {
   "cell_type": "markdown",
   "id": "523e47fb-169f-4ef4-8237-ef92d1049e21",
   "metadata": {},
   "source": [
    "Above is how we transform with pca algorithm. As you can see it reduced our examples from 5 features to 2 features"
   ]
  },
  {
   "cell_type": "markdown",
   "id": "443a8ffe-9899-4f3f-baa0-2167175b2014",
   "metadata": {},
   "source": [
    "### How to get explained_variance_ratio"
   ]
  },
  {
   "cell_type": "code",
   "execution_count": 17,
   "id": "356c0549-5c1f-4790-8aa9-c8a2664243d0",
   "metadata": {},
   "outputs": [
    {
     "name": "stdout",
     "output_type": "stream",
     "text": [
      "explained variance ratio is:0.6311348183348471\n"
     ]
    }
   ],
   "source": [
    "ex_variance_ratio=pca.explained_variance_ratio_\n",
    "print(f\"explained variance ratio is:{np.sum(ex_variance_ratio)}\")"
   ]
  },
  {
   "cell_type": "markdown",
   "id": "0f7dfede-7eec-4856-9d8f-990e23212ff2",
   "metadata": {},
   "source": [
    "### How to reconstruct to your original data that it was fit on and get mse"
   ]
  },
  {
   "cell_type": "code",
   "execution_count": 18,
   "id": "0761d99b-21ed-4cc7-a0b0-015046f6b32f",
   "metadata": {},
   "outputs": [
    {
     "name": "stdout",
     "output_type": "stream",
     "text": [
      "The size of my reconstructed array is (12, 5)\n",
      "The mse between my reconstructed data and the data it was fit on is: 0.3688651816651528\n"
     ]
    }
   ],
   "source": [
    "from sklearn.metrics import mean_squared_error\n",
    "X_approx = pca.inverse_transform(X_pca)\n",
    "print(f\"The size of my reconstructed array is {X_approx.shape}\")\n",
    "print(f\"The mse between my reconstructed data and the data it was fit on is: {mean_squared_error(X_scaled, X_approx)}\")"
   ]
  },
  {
   "cell_type": "markdown",
   "id": "9f45c019-f5ba-4418-8bb0-9c90209c4ec6",
   "metadata": {},
   "source": [
    "## How to plot needed 2d graph with classes having different colors"
   ]
  },
  {
   "cell_type": "code",
   "execution_count": 19,
   "id": "708d40d5-64de-41c3-9461-7d209be4b5ee",
   "metadata": {},
   "outputs": [
    {
     "data": {
      "image/png": "[encoded data removed]",
      "text/plain": [
       "<Figure size 700x500 with 1 Axes>"
      ]
     },
     "metadata": {},
     "output_type": "display_data"
    }
   ],
   "source": [
    "pc1_ax=X_pca[:,0]\n",
    "pc2_ax=X_pca[:,1]\n",
    "cdict={0:'red',1:'green'}\n",
    "labl = {0:'Malignant',1:'Benign'}\n",
    "marker={0:'*',1:'o'}\n",
    "\n",
    "alpha={0:.3, 1:.5}\n",
    "fig,ax=plt.subplots(figsize=(7,5))\n",
    "fig.patch.set_facecolor('white')\n",
    "for l in np.unique(Y_clf):\n",
    " ix=np.where(Y_clf==l)\n",
    " ax.scatter(pc1_ax[ix],pc2_ax[ix],c=cdict[l],s=40,\n",
    "           label=labl[l],marker=marker[l],alpha=alpha[l])\n",
    "    \n",
    "# for loop ends\n",
    "plt.xlabel(\"PC1\",fontsize=14)\n",
    "plt.ylabel(\"PC2\",fontsize=14)\n",
    "plt.legend()\n",
    "plt.show()"
   ]
  },
  {
   "cell_type": "markdown",
   "id": "b515dea5-990f-45e9-a75a-b2d0d7463c97",
   "metadata": {},
   "source": [
    "Notice in the above plot, my classes have different shapes and colors and I can see how the data is distributed"
   ]
  },
  {
   "cell_type": "markdown",
   "id": "8010fcfb-4a2d-4007-92ac-e38a470cbb3a",
   "metadata": {},
   "source": [
    "## How to plot needed 3d graph with classes having different colors"
   ]
  },
  {
   "cell_type": "code",
   "execution_count": 20,
   "id": "64007bf3-37ed-4e29-a383-3389ee07d151",
   "metadata": {},
   "outputs": [
    {
     "name": "stdout",
     "output_type": "stream",
     "text": [
      "explained variance ratio is:0.8711101014337684\n"
     ]
    },
    {
     "data": {
      "image/png": "[encoded data removed]",
      "text/plain": [
       "<Figure size 700x500 with 1 Axes>"
      ]
     },
     "metadata": {},
     "output_type": "display_data"
    }
   ],
   "source": [
    "pca = PCA(n_components=3)\n",
    "pca.fit(X_scaled) \n",
    "X_pca = pca.transform(X_scaled) \n",
    "\n",
    "ex_variance_ratio=pca.explained_variance_ratio_\n",
    "print(f\"explained variance ratio is:{np.sum(ex_variance_ratio)}\")\n",
    "\n",
    "\n",
    "pc1_ax = X_pca[:,0]\n",
    "pc2_ax = X_pca[:,1]\n",
    "pc3_ax = X_pca[:,2]\n",
    "\n",
    "cdict = {0:'red',1:'green'}\n",
    "labl = {0:'Malignant',1:'Benign'}\n",
    "marker = {0:'*',1:'o'}\n",
    "alpha = {0:.3, 1:.5}\n",
    "\n",
    "fig = plt.figure(figsize=(7,5))\n",
    "ax = fig.add_subplot(111, projection='3d')\n",
    "\n",
    "fig.patch.set_facecolor('white')\n",
    "for l in np.unique(Y_clf):\n",
    " ix=np.where(Y_clf==l)\n",
    " ax.scatter(pc1_ax[ix], pc2_ax[ix], pc3_ax[ix], c=cdict[l], s=40,\n",
    "           label=labl[l], marker=marker[l], alpha=alpha[l])\n",
    "# for loop ends\n",
    "ax.set_xlabel(\"PC1\", fontsize=14)\n",
    "ax.set_ylabel(\"PC2\", fontsize=14)\n",
    "ax.set_zlabel(\"PC3\", fontsize=14)\n",
    "\n",
    "ax.legend()\n",
    "plt.show()"
   ]
  },
  {
   "cell_type": "markdown",
   "id": "444fb15e-ea97-4ff5-bc97-cee59156f610",
   "metadata": {},
   "source": [
    "# Concluision\n",
    " - Did your graph look like california?\n",
    " - Did you notice with your clustering that clusters were generally created along the coast for more expensive properties and less expensive properties were more inland in different clusters\n",
    "     - i.e; The points were bigger for the clusters around the coast\n",
    " - Did you find an appropriate k for your clustering?\n",
    "     - Hint: I found 7 to be the best K because the silhoutte score did not drop from 6 clusters to 7 clusters (meaning the clusters did not lose their density and acquire any more overlap) \n",
    "       - the inertia also reduced from 6 clusters to 7 clusters while retaining the silhoutte score\n",
    " - Did you notice that even though you get around 70% explained variance the \"Malignant\" and \"Beningn\" points look seperated in space, meaning we can still get a decent representation at 70% explained variance.\n",
    " - Did you notice that you lost more explained variance when you reduced to 2 dimensions than when you reduced to 3 dimensions\n",
    " - Did you notice that the inverse_transorm on pca got you a reconstructed array with the same size as your original(scaled) data\n",
    "     - Did you notice that your mse between your reconstructed data and original(scaled) data was very small \n",
    "     - Did you notice that when you reconstructed from 3D instead of 2D your reconstruction loss was smaller"
   ]
  }
 ],
 "metadata": {
  "kernelspec": {
   "display_name": "Python 3 (ipykernel)",
   "language": "python",
   "name": "python3"
  },
  "language_info": {
   "codemirror_mode": {
    "name": "ipython",
    "version": 3
   },
   "file_extension": ".py",
   "mimetype": "text/x-python",
   "name": "python",
   "nbconvert_exporter": "python",
   "pygments_lexer": "ipython3",
   "version": "3.9.7"
  }
 },
 "nbformat": 4,
 "nbformat_minor": 5
}
