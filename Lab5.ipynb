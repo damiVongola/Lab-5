{
 "cells": [
  {
   "cell_type": "markdown",
   "id": "04cb2750-3489-426d-b467-83892585011e",
   "metadata": {},
   "source": [
    "# Clustering with kmeans"
   ]
  },
  {
   "cell_type": "markdown",
   "id": "f96f8c96-185e-494b-998c-f88031a50229",
   "metadata": {},
   "source": [
    "## Download California housing Dataset"
   ]
  },
  {
   "cell_type": "markdown",
   "id": "988ddd1a-ae07-4485-bdef-b643263b16aa",
   "metadata": {},
   "source": [
    "## Choose appropriate features\n",
    "- Pick just the \"Longitude\", \"Latitude\" and \"MedHouseVal\" columns of the dataset"
   ]
  },
  {
   "cell_type": "markdown",
   "id": "d0089a7f-a381-4df2-837e-aa05aef652bc",
   "metadata": {},
   "source": [
    "## Implement kmeans using sklearn\n",
    "- You will be using the default initialization for kmeans namely: \"kmeans++\"\n",
    "- The following will be done in a single for statement\n",
    "  - You are going to train 6 k-means clustering algorithms with different k's. Specifically k=[5, 6, 7, 8, 9, 10]\n",
    "  - You will print the following:\n",
    "    - The plots for each k\n",
    "    - These will be seaborn scatterplots\n",
    "    - You will create 6 subplots\n",
    "    - The Latitude will be the y's\n",
    "    - The Longitude's will be the x's\n",
    "    - Use random_state=0\n",
    "    - The MedianHouseValue will serve as the size of each point to let us know which clusters have the houses with the highest value\n",
    "      - Bigger points will mean bigger MedianHouseValue\n",
    "    - The inertia for each k (grab these in a list, you will need them later for plotting)\n",
    "    - The Silhoutte score for each k (grab these in a list, you will need them later plotting) "
   ]
  },
  {
   "cell_type": "markdown",
   "id": "a2bbb609-63ee-47a6-9342-beacc018f068",
   "metadata": {},
   "source": [
    "## Plot the inertia's against k's"
   ]
  },
  {
   "cell_type": "markdown",
   "id": "8b21840a-7722-4fc0-858c-9f50fee42be1",
   "metadata": {},
   "source": [
    "## Plot the silhoutte score against k's"
   ]
  },
  {
   "cell_type": "markdown",
   "id": "a03a052b-334f-4990-9d58-a914e22e7f66",
   "metadata": {},
   "source": [
    "# Dimensionality reduction with PCA"
   ]
  },
  {
   "cell_type": "markdown",
   "id": "18443895-6883-4497-9221-1b7429df7ad6",
   "metadata": {},
   "source": [
    "## Download Breast Cancer dataset from sklearn"
   ]
  },
  {
   "cell_type": "markdown",
   "id": "42c7ae5e-a953-4b99-8e09-05021cdf26d4",
   "metadata": {},
   "source": [
    "## Implement pca using sklearn"
   ]
  },
  {
   "cell_type": "markdown",
   "id": "ff11b8d1-511d-43ae-8b42-0f86894d3435",
   "metadata": {},
   "source": [
    "## Perform feature scaling using StandardScaler before applying PCA"
   ]
  },
  {
   "cell_type": "markdown",
   "id": "5249fb11-8fda-4175-94ba-b7197068cbd4",
   "metadata": {},
   "source": [
    "## Reduce all features to 2 components\n",
    "    - Plot a 2D graph with pc1 as x-axis and pc2 as the y-axis\n",
    "       - Use different points and colors for the \"benign\" and \"malignant\" points\n",
    "     "
   ]
  },
  {
   "cell_type": "markdown",
   "id": "d1410243-2c8c-4e61-aa24-2a3de39d5158",
   "metadata": {},
   "source": [
    "### Print the explained variance ratio"
   ]
  },
  {
   "cell_type": "markdown",
   "id": "ebe0a880-89db-4b4d-9c16-dca8f6f6cd98",
   "metadata": {},
   "source": [
    "### Reconstruct back to original dimension\n",
    "- Print shape of the reconstructed data\n",
    "- Get mse between reconstructed data and scaled data Hint: It should be less than 0.4. Around 0.36"
   ]
  },
  {
   "cell_type": "markdown",
   "id": "d43d9acd-3167-4e45-89a5-645488918f0c",
   "metadata": {},
   "source": [
    "## Reduce all features to 3 components\n",
    "    - Plot a 3D graph with pc1 as the x-axis, pc2 as the y-axis and pc3 as the z-axis\n",
    "      - Use different points and colors for the \"benign\" and \"malignant\" points"
   ]
  },
  {
   "cell_type": "markdown",
   "id": "8fd59db6-393d-4ac4-a300-641025a524a2",
   "metadata": {},
   "source": [
    "### Print the explained variance ratio"
   ]
  },
  {
   "cell_type": "markdown",
   "id": "686b7e53-08a6-419d-a8f1-15d280ec8e2d",
   "metadata": {},
   "source": [
    "### Reconstruct back to original dimension\n",
    "- Print shape of the reconstructed data\n",
    "- Get mse between reconstructed data and scaled data Hint: It should be less than 0.4. Around 0.36"
   ]
  }
 ],
 "metadata": {
  "kernelspec": {
   "display_name": "Python 3 (ipykernel)",
   "language": "python",
   "name": "python3"
  },
  "language_info": {
   "codemirror_mode": {
    "name": "ipython",
    "version": 3
   },
   "file_extension": ".py",
   "mimetype": "text/x-python",
   "name": "python",
   "nbconvert_exporter": "python",
   "pygments_lexer": "ipython3",
   "version": "3.9.7"
  }
 },
 "nbformat": 4,
 "nbformat_minor": 5
}
